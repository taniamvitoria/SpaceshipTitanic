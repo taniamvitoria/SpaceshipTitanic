{
 "cells": [
  {
   "cell_type": "markdown",
   "id": "ee18115b-7e23-4137-9482-384911aad826",
   "metadata": {},
   "source": [
    "# EDA Dataset Spaceship Titanic"
   ]
  },
  {
   "cell_type": "markdown",
   "id": "c0b2bacc-0e88-45ed-a128-11b9dcc9331b",
   "metadata": {},
   "source": [
    "## Descripción del Dataset"
   ]
  },
  {
   "cell_type": "code",
   "execution_count": null,
   "id": "84fa022c-d535-468e-8b48-be2ee4930367",
   "metadata": {},
   "outputs": [],
   "source": [
    "PassengerId is a unique identifier for each passenger. Each identifier has the form gggg_pp, where gggg indicates the group with which the passenger is traveling, and pp is their number in the group. People in a group are often family members, but not always.\n",
    "\n",
    "HomePlanet - the planet from which the passenger departed, usually the planet of his permanent residence.\n",
    "\n",
    "CryoSleep - indicates whether the passenger has decided to go into suspended animation for the duration of the flight. Passengers in cryosleep are locked in their cabins.\n",
    "\n",
    "Cabin - the number of the cabin in which the passenger is located. Takes the form deck/num/side, where side can be either P for port or S for starboard.\n",
    "\n",
    "Destination - the planet on which the passenger will disembark.\n",
    "\n",
    "Age - the age of the passenger.\n",
    "\n",
    "VIP - whether the passenger has paid for a special VIP service during the flight.\n",
    "\n",
    "RoomService, FoodCourt, ShoppingMall, Spa, VRDeck - Room service, Food court, shopping center, Spa, VRDeck - the amount that a passenger paid for each of the many luxurious amenities of the Titanic spacecraft.\n",
    "\n",
    "Name - the passenger's first and last name.\n",
    "\n",
    "Transported - whether the passenger was transported to another dimension. This is the goal, the column that you are trying to predict.\n"
   ]
  },
  {
   "cell_type": "code",
   "execution_count": 2,
   "id": "e97e1fcf-68e9-4699-a39f-41d7953fc472",
   "metadata": {},
   "outputs": [],
   "source": [
    "# importación de librarías\n",
    "\n",
    "import pandas as pd\n",
    "import numpy as np\n",
    "import matplotlib \n",
    "import matplotlib.pyplot as plt\n",
    "import seaborn as sns"
   ]
  },
  {
   "cell_type": "code",
   "execution_count": 4,
   "id": "2092fc24-ac14-4ec4-9eec-6994fc9a6bbc",
   "metadata": {},
   "outputs": [],
   "source": [
    "# Parámetros gráficos\n",
    "\n",
    "params = {'figure.figsize' : (12,6),\n",
    "         'font.size' : 12,\n",
    "         'axes.titlesize' : 20,\n",
    "         'axes.linewidth' : 2}\n",
    "\n",
    "\n",
    "bbox = {'boxstyle' : 'round',\n",
    "        'pad' : 0.5,\n",
    "        'facecolor' : 'white',\n",
    "        'edgecolor' : 'black',\n",
    "        'linewidth' : 1,\n",
    "        'alpha' : 1}\n",
    "\n",
    "plt.style.use('fivethirtyeight')\n",
    "color = ['#E36149', '#49AF72']\n",
    "matplotlib.rcParams.update(params)"
   ]
  },
  {
   "cell_type": "code",
   "execution_count": 5,
   "id": "5488c1fb-214a-41cc-bb8b-2b17b88879bf",
   "metadata": {},
   "outputs": [],
   "source": [
    "# Сountplot based on a one column\n",
    "\n",
    "def countplot_one_column(name_column, title):\n",
    "    c = sns.countplot(data = df,\n",
    "                  x = name_column,\n",
    "                  edgecolor = 'black',\n",
    "                  linewidth = 1.5)\n",
    "    plt.bar_label(c.containers[0], bbox = bbox)\n",
    "\n",
    "    plt.title(title, fontweight = 'bold')\n",
    "    plt.show()"
   ]
  },
  {
   "cell_type": "code",
   "execution_count": 6,
   "id": "a3e80891-fbd4-455f-8a68-84501fe6ff28",
   "metadata": {},
   "outputs": [],
   "source": [
    "# Сountplot based on multiple column\n",
    "\n",
    "def countplot_hue_column(name_column, hue_column, title):\n",
    "    c = sns.countplot(data = df,\n",
    "                  x = name_column,\n",
    "                  hue = hue_column,\n",
    "                  linewidth = 1,\n",
    "                  edgecolor = 'black',\n",
    "                  palette = color)\n",
    "    plt.bar_label(c.containers[0], bbox = bbox)\n",
    "    plt.bar_label(c.containers[1], bbox = bbox)\n",
    "    \n",
    "    plt.title(title, fontweight = 'bold')\n",
    "    plt.show()\n"
   ]
  },
  {
   "cell_type": "code",
   "execution_count": 16,
   "id": "0a0bce4d-315c-4457-bc4a-83a417bca4d9",
   "metadata": {},
   "outputs": [
    {
     "data": {
      "text/html": [
       "<div>\n",
       "<style scoped>\n",
       "    .dataframe tbody tr th:only-of-type {\n",
       "        vertical-align: middle;\n",
       "    }\n",
       "\n",
       "    .dataframe tbody tr th {\n",
       "        vertical-align: top;\n",
       "    }\n",
       "\n",
       "    .dataframe thead th {\n",
       "        text-align: right;\n",
       "    }\n",
       "</style>\n",
       "<table border=\"1\" class=\"dataframe\">\n",
       "  <thead>\n",
       "    <tr style=\"text-align: right;\">\n",
       "      <th></th>\n",
       "      <th>PassengerId</th>\n",
       "      <th>HomePlanet</th>\n",
       "      <th>CryoSleep</th>\n",
       "      <th>Cabin</th>\n",
       "      <th>Destination</th>\n",
       "      <th>Age</th>\n",
       "      <th>VIP</th>\n",
       "      <th>RoomService</th>\n",
       "      <th>FoodCourt</th>\n",
       "      <th>ShoppingMall</th>\n",
       "      <th>Spa</th>\n",
       "      <th>VRDeck</th>\n",
       "      <th>Name</th>\n",
       "      <th>Transported</th>\n",
       "    </tr>\n",
       "  </thead>\n",
       "  <tbody>\n",
       "    <tr>\n",
       "      <th>0</th>\n",
       "      <td>0001_01</td>\n",
       "      <td>Europa</td>\n",
       "      <td>False</td>\n",
       "      <td>B/0/P</td>\n",
       "      <td>TRAPPIST-1e</td>\n",
       "      <td>39.0</td>\n",
       "      <td>False</td>\n",
       "      <td>0.0</td>\n",
       "      <td>0.0</td>\n",
       "      <td>0.0</td>\n",
       "      <td>0.0</td>\n",
       "      <td>0.0</td>\n",
       "      <td>Maham Ofracculy</td>\n",
       "      <td>False</td>\n",
       "    </tr>\n",
       "    <tr>\n",
       "      <th>1</th>\n",
       "      <td>0002_01</td>\n",
       "      <td>Earth</td>\n",
       "      <td>False</td>\n",
       "      <td>F/0/S</td>\n",
       "      <td>TRAPPIST-1e</td>\n",
       "      <td>24.0</td>\n",
       "      <td>False</td>\n",
       "      <td>109.0</td>\n",
       "      <td>9.0</td>\n",
       "      <td>25.0</td>\n",
       "      <td>549.0</td>\n",
       "      <td>44.0</td>\n",
       "      <td>Juanna Vines</td>\n",
       "      <td>True</td>\n",
       "    </tr>\n",
       "    <tr>\n",
       "      <th>2</th>\n",
       "      <td>0003_01</td>\n",
       "      <td>Europa</td>\n",
       "      <td>False</td>\n",
       "      <td>A/0/S</td>\n",
       "      <td>TRAPPIST-1e</td>\n",
       "      <td>58.0</td>\n",
       "      <td>True</td>\n",
       "      <td>43.0</td>\n",
       "      <td>3576.0</td>\n",
       "      <td>0.0</td>\n",
       "      <td>6715.0</td>\n",
       "      <td>49.0</td>\n",
       "      <td>Altark Susent</td>\n",
       "      <td>False</td>\n",
       "    </tr>\n",
       "    <tr>\n",
       "      <th>3</th>\n",
       "      <td>0003_02</td>\n",
       "      <td>Europa</td>\n",
       "      <td>False</td>\n",
       "      <td>A/0/S</td>\n",
       "      <td>TRAPPIST-1e</td>\n",
       "      <td>33.0</td>\n",
       "      <td>False</td>\n",
       "      <td>0.0</td>\n",
       "      <td>1283.0</td>\n",
       "      <td>371.0</td>\n",
       "      <td>3329.0</td>\n",
       "      <td>193.0</td>\n",
       "      <td>Solam Susent</td>\n",
       "      <td>False</td>\n",
       "    </tr>\n",
       "    <tr>\n",
       "      <th>4</th>\n",
       "      <td>0004_01</td>\n",
       "      <td>Earth</td>\n",
       "      <td>False</td>\n",
       "      <td>F/1/S</td>\n",
       "      <td>TRAPPIST-1e</td>\n",
       "      <td>16.0</td>\n",
       "      <td>False</td>\n",
       "      <td>303.0</td>\n",
       "      <td>70.0</td>\n",
       "      <td>151.0</td>\n",
       "      <td>565.0</td>\n",
       "      <td>2.0</td>\n",
       "      <td>Willy Santantines</td>\n",
       "      <td>True</td>\n",
       "    </tr>\n",
       "    <tr>\n",
       "      <th>5</th>\n",
       "      <td>0005_01</td>\n",
       "      <td>Earth</td>\n",
       "      <td>False</td>\n",
       "      <td>F/0/P</td>\n",
       "      <td>PSO J318.5-22</td>\n",
       "      <td>44.0</td>\n",
       "      <td>False</td>\n",
       "      <td>0.0</td>\n",
       "      <td>483.0</td>\n",
       "      <td>0.0</td>\n",
       "      <td>291.0</td>\n",
       "      <td>0.0</td>\n",
       "      <td>Sandie Hinetthews</td>\n",
       "      <td>True</td>\n",
       "    </tr>\n",
       "    <tr>\n",
       "      <th>6</th>\n",
       "      <td>0006_01</td>\n",
       "      <td>Earth</td>\n",
       "      <td>False</td>\n",
       "      <td>F/2/S</td>\n",
       "      <td>TRAPPIST-1e</td>\n",
       "      <td>26.0</td>\n",
       "      <td>False</td>\n",
       "      <td>42.0</td>\n",
       "      <td>1539.0</td>\n",
       "      <td>3.0</td>\n",
       "      <td>0.0</td>\n",
       "      <td>0.0</td>\n",
       "      <td>Billex Jacostaffey</td>\n",
       "      <td>True</td>\n",
       "    </tr>\n",
       "    <tr>\n",
       "      <th>7</th>\n",
       "      <td>0006_02</td>\n",
       "      <td>Earth</td>\n",
       "      <td>True</td>\n",
       "      <td>G/0/S</td>\n",
       "      <td>TRAPPIST-1e</td>\n",
       "      <td>28.0</td>\n",
       "      <td>False</td>\n",
       "      <td>0.0</td>\n",
       "      <td>0.0</td>\n",
       "      <td>0.0</td>\n",
       "      <td>0.0</td>\n",
       "      <td>NaN</td>\n",
       "      <td>Candra Jacostaffey</td>\n",
       "      <td>True</td>\n",
       "    </tr>\n",
       "    <tr>\n",
       "      <th>8</th>\n",
       "      <td>0007_01</td>\n",
       "      <td>Earth</td>\n",
       "      <td>False</td>\n",
       "      <td>F/3/S</td>\n",
       "      <td>TRAPPIST-1e</td>\n",
       "      <td>35.0</td>\n",
       "      <td>False</td>\n",
       "      <td>0.0</td>\n",
       "      <td>785.0</td>\n",
       "      <td>17.0</td>\n",
       "      <td>216.0</td>\n",
       "      <td>0.0</td>\n",
       "      <td>Andona Beston</td>\n",
       "      <td>True</td>\n",
       "    </tr>\n",
       "    <tr>\n",
       "      <th>9</th>\n",
       "      <td>0008_01</td>\n",
       "      <td>Europa</td>\n",
       "      <td>True</td>\n",
       "      <td>B/1/P</td>\n",
       "      <td>55 Cancri e</td>\n",
       "      <td>14.0</td>\n",
       "      <td>False</td>\n",
       "      <td>0.0</td>\n",
       "      <td>0.0</td>\n",
       "      <td>0.0</td>\n",
       "      <td>0.0</td>\n",
       "      <td>0.0</td>\n",
       "      <td>Erraiam Flatic</td>\n",
       "      <td>True</td>\n",
       "    </tr>\n",
       "  </tbody>\n",
       "</table>\n",
       "</div>"
      ],
      "text/plain": [
       "  PassengerId HomePlanet CryoSleep  Cabin    Destination   Age    VIP  \\\n",
       "0     0001_01     Europa     False  B/0/P    TRAPPIST-1e  39.0  False   \n",
       "1     0002_01      Earth     False  F/0/S    TRAPPIST-1e  24.0  False   \n",
       "2     0003_01     Europa     False  A/0/S    TRAPPIST-1e  58.0   True   \n",
       "3     0003_02     Europa     False  A/0/S    TRAPPIST-1e  33.0  False   \n",
       "4     0004_01      Earth     False  F/1/S    TRAPPIST-1e  16.0  False   \n",
       "5     0005_01      Earth     False  F/0/P  PSO J318.5-22  44.0  False   \n",
       "6     0006_01      Earth     False  F/2/S    TRAPPIST-1e  26.0  False   \n",
       "7     0006_02      Earth      True  G/0/S    TRAPPIST-1e  28.0  False   \n",
       "8     0007_01      Earth     False  F/3/S    TRAPPIST-1e  35.0  False   \n",
       "9     0008_01     Europa      True  B/1/P    55 Cancri e  14.0  False   \n",
       "\n",
       "   RoomService  FoodCourt  ShoppingMall     Spa  VRDeck                Name  \\\n",
       "0          0.0        0.0           0.0     0.0     0.0     Maham Ofracculy   \n",
       "1        109.0        9.0          25.0   549.0    44.0        Juanna Vines   \n",
       "2         43.0     3576.0           0.0  6715.0    49.0       Altark Susent   \n",
       "3          0.0     1283.0         371.0  3329.0   193.0        Solam Susent   \n",
       "4        303.0       70.0         151.0   565.0     2.0   Willy Santantines   \n",
       "5          0.0      483.0           0.0   291.0     0.0   Sandie Hinetthews   \n",
       "6         42.0     1539.0           3.0     0.0     0.0  Billex Jacostaffey   \n",
       "7          0.0        0.0           0.0     0.0     NaN  Candra Jacostaffey   \n",
       "8          0.0      785.0          17.0   216.0     0.0       Andona Beston   \n",
       "9          0.0        0.0           0.0     0.0     0.0      Erraiam Flatic   \n",
       "\n",
       "   Transported  \n",
       "0        False  \n",
       "1         True  \n",
       "2        False  \n",
       "3        False  \n",
       "4         True  \n",
       "5         True  \n",
       "6         True  \n",
       "7         True  \n",
       "8         True  \n",
       "9         True  "
      ]
     },
     "execution_count": 16,
     "metadata": {},
     "output_type": "execute_result"
    }
   ],
   "source": [
    "# Conectando la base de datos\n",
    "\n",
    "df = pd.read_csv('train.csv')\n",
    "df.head(10)"
   ]
  },
  {
   "cell_type": "code",
   "execution_count": 17,
   "id": "7e9c62cc-6856-497b-8f11-541c08762dbb",
   "metadata": {},
   "outputs": [
    {
     "name": "stdout",
     "output_type": "stream",
     "text": [
      "<class 'pandas.core.frame.DataFrame'>\n",
      "RangeIndex: 8693 entries, 0 to 8692\n",
      "Data columns (total 14 columns):\n",
      " #   Column        Non-Null Count  Dtype  \n",
      "---  ------        --------------  -----  \n",
      " 0   PassengerId   8693 non-null   object \n",
      " 1   HomePlanet    8492 non-null   object \n",
      " 2   CryoSleep     8476 non-null   object \n",
      " 3   Cabin         8494 non-null   object \n",
      " 4   Destination   8511 non-null   object \n",
      " 5   Age           8514 non-null   float64\n",
      " 6   VIP           8490 non-null   object \n",
      " 7   RoomService   8512 non-null   float64\n",
      " 8   FoodCourt     8510 non-null   float64\n",
      " 9   ShoppingMall  8485 non-null   float64\n",
      " 10  Spa           8510 non-null   float64\n",
      " 11  VRDeck        8505 non-null   float64\n",
      " 12  Name          8493 non-null   object \n",
      " 13  Transported   8693 non-null   bool   \n",
      "dtypes: bool(1), float64(6), object(7)\n",
      "memory usage: 891.5+ KB\n"
     ]
    }
   ],
   "source": [
    "df.info()"
   ]
  },
  {
   "cell_type": "code",
   "execution_count": 10,
   "id": "5d6cec24-3b19-4aa8-803d-b0b413434d6b",
   "metadata": {},
   "outputs": [
    {
     "data": {
      "text/plain": [
       "(8693, 14)"
      ]
     },
     "execution_count": 10,
     "metadata": {},
     "output_type": "execute_result"
    }
   ],
   "source": [
    "# Verificar líneas x Columnas\n",
    "df.shape"
   ]
  },
  {
   "cell_type": "code",
   "execution_count": 19,
   "id": "dc856444-6ed2-4c1d-826a-d2312234048e",
   "metadata": {},
   "outputs": [
    {
     "data": {
      "text/plain": [
       "PassengerId       0\n",
       "HomePlanet      201\n",
       "CryoSleep       217\n",
       "Cabin           199\n",
       "Destination     182\n",
       "Age             179\n",
       "VIP             203\n",
       "RoomService     181\n",
       "FoodCourt       183\n",
       "ShoppingMall    208\n",
       "Spa             183\n",
       "VRDeck          188\n",
       "Name            200\n",
       "Transported       0\n",
       "dtype: int64"
      ]
     },
     "execution_count": 19,
     "metadata": {},
     "output_type": "execute_result"
    }
   ],
   "source": [
    "df.isna().sum()"
   ]
  },
  {
   "cell_type": "markdown",
   "id": "432e8103-1c04-4e30-bb2e-17dc71758d28",
   "metadata": {},
   "source": [
    "## Limpieza de los datos"
   ]
  },
  {
   "cell_type": "code",
   "execution_count": 22,
   "id": "ec1f81e4-694f-4993-b2aa-b938c5183b29",
   "metadata": {},
   "outputs": [],
   "source": [
    "# Eliminación de la columna Name\n",
    "df.drop(\"Name\", axis=1, inplace=True)"
   ]
  },
  {
   "cell_type": "markdown",
   "id": "47442689-5f0e-4413-be21-c48ba29b6ce6",
   "metadata": {},
   "source": [
    "## Transformación de los datos"
   ]
  },
  {
   "cell_type": "code",
   "execution_count": 29,
   "id": "47d5430e-6e3c-478f-a38a-acf61b1c1ecf",
   "metadata": {},
   "outputs": [],
   "source": [
    "# preparando dos nuevas columnas a partir de PassegerId\n",
    "Group = df['PassengerId'].str.split('_', expand=True)[0] \n",
    "NumberInGroup = df['PassengerId'].str.split('_', expand=True)[1]\n",
    "\n",
    "# Renomeando PassagerId como Group\n",
    "df['PassengerId'] = Group\n",
    "df = df.rename(columns = {'PassengerId' : 'Group'})\n",
    "# removing the extra 0\n",
    "df['Group'] = df['Group'].astype('int')\n",
    "\n",
    "# add NumberInGroup\n",
    "insert_position = 1\n",
    "df.insert(insert_position, 'NumberInGroup', NumberInGroup)\n",
    "# removing the extra 1\n",
    "df['NumberInGroup'] = df['NumberInGroup'].astype('int')\n",
    "\n"
   ]
  },
  {
   "cell_type": "code",
   "execution_count": 33,
   "id": "ee20dc60-e930-410a-b784-77d5192ff445",
   "metadata": {},
   "outputs": [
    {
     "data": {
      "text/html": [
       "<div>\n",
       "<style scoped>\n",
       "    .dataframe tbody tr th:only-of-type {\n",
       "        vertical-align: middle;\n",
       "    }\n",
       "\n",
       "    .dataframe tbody tr th {\n",
       "        vertical-align: top;\n",
       "    }\n",
       "\n",
       "    .dataframe thead th {\n",
       "        text-align: right;\n",
       "    }\n",
       "</style>\n",
       "<table border=\"1\" class=\"dataframe\">\n",
       "  <thead>\n",
       "    <tr style=\"text-align: right;\">\n",
       "      <th></th>\n",
       "      <th>CountGroup</th>\n",
       "    </tr>\n",
       "    <tr>\n",
       "      <th>Group</th>\n",
       "      <th></th>\n",
       "    </tr>\n",
       "  </thead>\n",
       "  <tbody>\n",
       "    <tr>\n",
       "      <th>1</th>\n",
       "      <td>1</td>\n",
       "    </tr>\n",
       "    <tr>\n",
       "      <th>2</th>\n",
       "      <td>1</td>\n",
       "    </tr>\n",
       "    <tr>\n",
       "      <th>3</th>\n",
       "      <td>2</td>\n",
       "    </tr>\n",
       "    <tr>\n",
       "      <th>4</th>\n",
       "      <td>1</td>\n",
       "    </tr>\n",
       "    <tr>\n",
       "      <th>5</th>\n",
       "      <td>1</td>\n",
       "    </tr>\n",
       "    <tr>\n",
       "      <th>6</th>\n",
       "      <td>2</td>\n",
       "    </tr>\n",
       "    <tr>\n",
       "      <th>7</th>\n",
       "      <td>1</td>\n",
       "    </tr>\n",
       "    <tr>\n",
       "      <th>8</th>\n",
       "      <td>3</td>\n",
       "    </tr>\n",
       "    <tr>\n",
       "      <th>9</th>\n",
       "      <td>1</td>\n",
       "    </tr>\n",
       "    <tr>\n",
       "      <th>10</th>\n",
       "      <td>1</td>\n",
       "    </tr>\n",
       "  </tbody>\n",
       "</table>\n",
       "</div>"
      ],
      "text/plain": [
       "       CountGroup\n",
       "Group            \n",
       "1               1\n",
       "2               1\n",
       "3               2\n",
       "4               1\n",
       "5               1\n",
       "6               2\n",
       "7               1\n",
       "8               3\n",
       "9               1\n",
       "10              1"
      ]
     },
     "execution_count": 33,
     "metadata": {},
     "output_type": "execute_result"
    }
   ],
   "source": [
    "# crea nuevo dataset llamado count_group\n",
    "count_group = df.groupby('Group').agg({'Group' : 'count'})\n",
    "count_group.index.name = 'Group'\n",
    "count_group = count_group.rename(columns = {'Group' : 'CountGroup'})\n",
    "\n",
    "count_group.head(10)\n"
   ]
  },
  {
   "cell_type": "code",
   "execution_count": 34,
   "id": "f860c8bb-7206-46ef-be87-7dbbe5b2196e",
   "metadata": {},
   "outputs": [],
   "source": [
    "# Creating CountGroup - number of people in the group\n",
    "df.insert(2, 'CountGroup', np.nan)\n",
    "\n",
    "for index in count_group.index:\n",
    "    df.loc[df['Group'] == index, 'CountGroup'] = \\\n",
    "    df.loc[df['Group'] == index, 'CountGroup'].fillna(count_group.loc[index][0])\n",
    "\n",
    "df['CountGroup'] = df['CountGroup'].astype('int')"
   ]
  },
  {
   "cell_type": "code",
   "execution_count": 39,
   "id": "e6ad8655-b478-42bb-abf4-784015a40869",
   "metadata": {},
   "outputs": [],
   "source": [
    "# Separar los elementos de Cabin\n",
    "deck = df['Cabin'].str.split('/', expand = True)[0]\n",
    "num = df['Cabin'].str.split('/', expand = True)[1]\n",
    "side = df['Cabin'].str.split('/', expand = True)[2]\n",
    "\n",
    "df['Cabin'] = deck\n",
    "df = df.rename(columns = {'Cabin' : 'CabinType'})\n",
    "df.insert(6, 'NumCabins', num)\n",
    "df.insert(7, 'Side', side)\n"
   ]
  },
  {
   "cell_type": "code",
   "execution_count": 46,
   "id": "a00dc63a-fb07-45ca-bac0-aefefa85dab0",
   "metadata": {},
   "outputs": [
    {
     "data": {
      "text/plain": [
       "count    8693.000000\n",
       "mean       28.790291\n",
       "std        14.341404\n",
       "min         0.000000\n",
       "25%        20.000000\n",
       "50%        27.000000\n",
       "75%        37.000000\n",
       "max        79.000000\n",
       "Name: Age, dtype: float64"
      ]
     },
     "execution_count": 46,
     "metadata": {},
     "output_type": "execute_result"
    }
   ],
   "source": [
    "# Age\n",
    "df['Age'].describe()"
   ]
  },
  {
   "cell_type": "code",
   "execution_count": 47,
   "id": "ee990949-5f12-4c3c-a986-97bb0624a100",
   "metadata": {},
   "outputs": [],
   "source": [
    "# Inserir la edad median a los registros vacíos\n",
    "median = df['Age'].median()\n",
    "df.loc[df['Age'].isna(),'Age'] = df.loc[df['Age'].isna(),'Age'].fillna(median)"
   ]
  },
  {
   "cell_type": "code",
   "execution_count": 49,
   "id": "0bc6a09b-4e17-4eb9-8076-bcf8fa20bbef",
   "metadata": {},
   "outputs": [],
   "source": [
    "median = df['RoomService'].median()\n",
    "df.loc[df['RoomService'].isna(), 'RoomService'] = df.loc[df['RoomService'].isna(), 'RoomService'].fillna(median)\n",
    "df.loc[df['FoodCourt'].isna(), 'FoodCourt'] = df.loc[df['FoodCourt'].isna(), 'FoodCourt'].fillna(median)\n",
    "df.loc[df['ShoppingMall'].isna(), 'ShoppingMall'] = df.loc[df['ShoppingMall'].isna(), 'ShoppingMall'].fillna(median)\n",
    "df.loc[df['Spa'].isna(), 'Spa'] = df.loc[df['Spa'].isna(), 'Spa'].fillna(median)\n",
    "df.loc[df['VRDeck'].isna(), 'VRDeck'] = df.loc[df['VRDeck'].isna(), 'VRDeck'].fillna(median)"
   ]
  },
  {
   "cell_type": "code",
   "execution_count": 59,
   "id": "b036f539-70f3-491a-8ac9-1cf3f8c9fc91",
   "metadata": {},
   "outputs": [],
   "source": [
    "df.loc[df['VIP'].isna(), 'VIP'] = df.loc[df['VIP'].isna(), 'VIP'].fillna(False)\n",
    "\n",
    "def fillna_column(columns_nan, column_fill, value, fill):\n",
    "    df.loc[(df[columns_nan].isna()) & (df[column_fill] == value), columns_nan] = \\\n",
    "    df.loc[(df[columns_nan].isna()) & (df[column_fill] == value), columns_nan].fillna(fill)\n",
    "\n",
    "fillna_column('Destination', 'HomePlanet', 'Earth','TRAPPIST-1e')\n",
    "fillna_column('Destination', 'HomePlanet', 'Europa', '55 Cancri e')\n",
    "\n",
    "\n"
   ]
  },
  {
   "cell_type": "code",
   "execution_count": 60,
   "id": "eb75ed16-0d71-4efb-acdd-452d5cdf1216",
   "metadata": {},
   "outputs": [],
   "source": [
    "fillna_column('Destination', 'Transported', False,'TRAPPIST-1e')\n",
    "fillna_column('Destination', 'Transported', True, '55 Cancri e')\n"
   ]
  },
  {
   "cell_type": "code",
   "execution_count": 62,
   "id": "db51869b-cc14-416e-b203-07ac994cc6cc",
   "metadata": {},
   "outputs": [],
   "source": [
    "fillna_column('Side', 'Transported', False, 'P')\n",
    "fillna_column('Side', 'Transported', True, 'S')"
   ]
  },
  {
   "cell_type": "code",
   "execution_count": 80,
   "id": "ed77d857-645d-4ac7-b1c3-abc4fe35f317",
   "metadata": {},
   "outputs": [],
   "source": [
    "df.loc[df['CabinType'].isna(), 'CabinType'] = df.loc[df['CabinType'].isna(), 'CabinType'].fillna(\"G\")"
   ]
  },
  {
   "cell_type": "code",
   "execution_count": 81,
   "id": "d10a47ea-2983-406a-b839-1b0a4d3ff183",
   "metadata": {},
   "outputs": [
    {
     "name": "stdout",
     "output_type": "stream",
     "text": [
      "Tipos de Cabinas existentes:\n",
      "B\n",
      "F\n",
      "A\n",
      "G\n",
      "E\n",
      "D\n",
      "C\n",
      "T\n"
     ]
    }
   ],
   "source": [
    "# Obtén todos los tipos de cabinas únicos en tus datos\n",
    "tipos_de_cabinas = df['CabinType'].unique()\n",
    "\n",
    "# Imprime los tipos de cabinas únicos\n",
    "print(\"Tipos de Cabinas existentes:\")\n",
    "for tipo in tipos_de_cabinas:\n",
    "    print(tipo)\n",
    "    "
   ]
  },
  {
   "cell_type": "code",
   "execution_count": 83,
   "id": "820e1735-80bd-4753-8d0b-cf88670303ea",
   "metadata": {},
   "outputs": [],
   "source": [
    "fillna_column('HomePlanet', 'CabinType', 'B', 'Europa')\n",
    "fillna_column('HomePlanet', 'CabinType', 'F', 'Earth')\n",
    "fillna_column('HomePlanet', 'CabinType', 'A', 'Europa')\n",
    "fillna_column('HomePlanet', 'CabinType', 'G', 'Earth')\n",
    "fillna_column('HomePlanet', 'CabinType', 'E', 'Earth')\n",
    "fillna_column('HomePlanet', 'CabinType', 'D', 'Mars')\n",
    "fillna_column('HomePlanet', 'CabinType', 'C', 'Europa')\n",
    "fillna_column('HomePlanet', 'CabinType', 'T', 'Europa')"
   ]
  },
  {
   "cell_type": "code",
   "execution_count": 84,
   "id": "a3da0f66-8953-40e8-b18d-53a5e9959b94",
   "metadata": {},
   "outputs": [],
   "source": [
    "fillna_column('CryoSleep', 'Transported', False, False)\n",
    "fillna_column('CryoSleep', 'Transported', True, True)\n"
   ]
  },
  {
   "cell_type": "code",
   "execution_count": 86,
   "id": "3bb6c704-4929-4f21-a025-4ef86ddd5563",
   "metadata": {},
   "outputs": [],
   "source": [
    "df = df.drop('NumCabins' , axis = 1)"
   ]
  },
  {
   "cell_type": "code",
   "execution_count": 87,
   "id": "2944ecb6-cd50-40dc-9e14-e28b71faa8f5",
   "metadata": {},
   "outputs": [
    {
     "data": {
      "text/plain": [
       "Group            0\n",
       "NumberInGroup    0\n",
       "CountGroup       0\n",
       "HomePlanet       0\n",
       "CryoSleep        0\n",
       "CabinType        0\n",
       "Side             0\n",
       "Destination      0\n",
       "Age              0\n",
       "VIP              0\n",
       "RoomService      0\n",
       "FoodCourt        0\n",
       "ShoppingMall     0\n",
       "Spa              0\n",
       "VRDeck           0\n",
       "Transported      0\n",
       "dtype: int64"
      ]
     },
     "execution_count": 87,
     "metadata": {},
     "output_type": "execute_result"
    }
   ],
   "source": [
    "df.isna().sum()"
   ]
  },
  {
   "cell_type": "code",
   "execution_count": 88,
   "id": "22d3249c-a855-49af-865f-810f77edeaf2",
   "metadata": {},
   "outputs": [
    {
     "ename": "AttributeError",
     "evalue": "'DataFrame' object has no attribute 'type'",
     "output_type": "error",
     "traceback": [
      "\u001b[1;31m---------------------------------------------------------------------------\u001b[0m",
      "\u001b[1;31mAttributeError\u001b[0m                            Traceback (most recent call last)",
      "\u001b[1;32m~\\AppData\\Local\\Temp\\ipykernel_10260\\2465499897.py\u001b[0m in \u001b[0;36m?\u001b[1;34m()\u001b[0m\n\u001b[1;32m----> 1\u001b[1;33m \u001b[0mdf\u001b[0m\u001b[1;33m.\u001b[0m\u001b[0mtype\u001b[0m\u001b[1;33m(\u001b[0m\u001b[1;33m)\u001b[0m\u001b[1;33m\u001b[0m\u001b[1;33m\u001b[0m\u001b[0m\n\u001b[0m",
      "\u001b[1;32mc:\\users\\tania\\spaceship titanic\\spaceshiptitanic\\env\\lib\\site-packages\\pandas\\core\\generic.py\u001b[0m in \u001b[0;36m?\u001b[1;34m(self, name)\u001b[0m\n\u001b[0;32m   5985\u001b[0m             \u001b[1;32mand\u001b[0m \u001b[0mname\u001b[0m \u001b[1;32mnot\u001b[0m \u001b[1;32min\u001b[0m \u001b[0mself\u001b[0m\u001b[1;33m.\u001b[0m\u001b[0m_accessors\u001b[0m\u001b[1;33m\u001b[0m\u001b[1;33m\u001b[0m\u001b[0m\n\u001b[0;32m   5986\u001b[0m             \u001b[1;32mand\u001b[0m \u001b[0mself\u001b[0m\u001b[1;33m.\u001b[0m\u001b[0m_info_axis\u001b[0m\u001b[1;33m.\u001b[0m\u001b[0m_can_hold_identifiers_and_holds_name\u001b[0m\u001b[1;33m(\u001b[0m\u001b[0mname\u001b[0m\u001b[1;33m)\u001b[0m\u001b[1;33m\u001b[0m\u001b[1;33m\u001b[0m\u001b[0m\n\u001b[0;32m   5987\u001b[0m         ):\n\u001b[0;32m   5988\u001b[0m             \u001b[1;32mreturn\u001b[0m \u001b[0mself\u001b[0m\u001b[1;33m[\u001b[0m\u001b[0mname\u001b[0m\u001b[1;33m]\u001b[0m\u001b[1;33m\u001b[0m\u001b[1;33m\u001b[0m\u001b[0m\n\u001b[1;32m-> 5989\u001b[1;33m         \u001b[1;32mreturn\u001b[0m \u001b[0mobject\u001b[0m\u001b[1;33m.\u001b[0m\u001b[0m__getattribute__\u001b[0m\u001b[1;33m(\u001b[0m\u001b[0mself\u001b[0m\u001b[1;33m,\u001b[0m \u001b[0mname\u001b[0m\u001b[1;33m)\u001b[0m\u001b[1;33m\u001b[0m\u001b[1;33m\u001b[0m\u001b[0m\n\u001b[0m",
      "\u001b[1;31mAttributeError\u001b[0m: 'DataFrame' object has no attribute 'type'"
     ]
    }
   ],
   "source": [
    "df.type()"
   ]
  },
  {
   "cell_type": "code",
   "execution_count": null,
   "id": "83fc9199-3cc8-4a8e-a078-b57e730317f2",
   "metadata": {},
   "outputs": [],
   "source": []
  }
 ],
 "metadata": {
  "kernelspec": {
   "display_name": "Python 3 (ipykernel)",
   "language": "python",
   "name": "python3"
  },
  "language_info": {
   "codemirror_mode": {
    "name": "ipython",
    "version": 3
   },
   "file_extension": ".py",
   "mimetype": "text/x-python",
   "name": "python",
   "nbconvert_exporter": "python",
   "pygments_lexer": "ipython3",
   "version": "3.8.2"
  }
 },
 "nbformat": 4,
 "nbformat_minor": 5
}
