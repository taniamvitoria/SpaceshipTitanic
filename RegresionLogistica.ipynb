{
 "cells": [
  {
   "cell_type": "code",
   "execution_count": 3,
   "id": "a93edfbc-65d7-4b7e-ae7a-d3315a162050",
   "metadata": {},
   "outputs": [],
   "source": [
    "import pandas as pd\n",
    "from sklearn.model_selection import train_test_split\n",
    "from sklearn.preprocessing import StandardScaler\n",
    "from sklearn.linear_model import LogisticRegression\n",
    "from sklearn.metrics import accuracy_score"
   ]
  },
  {
   "cell_type": "code",
   "execution_count": 4,
   "id": "a6be8f8d-09b7-419c-847e-e82e8220e703",
   "metadata": {},
   "outputs": [],
   "source": [
    "# Cargar los archivos CSV de entrenamiento y prueba\n",
    "df_train = pd.read_csv('train.csv')  # Asegúrate de ajustar el nombre de archivo correcto\n",
    "df_test = pd.read_csv('test.csv')    # Asegúrate de ajustar el nombre de archivo correcto\n"
   ]
  },
  {
   "cell_type": "code",
   "execution_count": 7,
   "id": "142eb724-7965-43ac-bdd6-a973f3ef9a8b",
   "metadata": {},
   "outputs": [
    {
     "data": {
      "text/plain": [
       "PassengerId       0\n",
       "HomePlanet       87\n",
       "CryoSleep        93\n",
       "Cabin           100\n",
       "Destination      92\n",
       "Age              91\n",
       "VIP              93\n",
       "RoomService      82\n",
       "FoodCourt       106\n",
       "ShoppingMall     98\n",
       "Spa             101\n",
       "VRDeck           80\n",
       "Name             94\n",
       "dtype: int64"
      ]
     },
     "execution_count": 7,
     "metadata": {},
     "output_type": "execute_result"
    }
   ],
   "source": [
    "df_test.isna().sum()"
   ]
  },
  {
   "cell_type": "code",
   "execution_count": null,
   "id": "fbd7632b-c89d-48b2-ae6b-50b717c19b2e",
   "metadata": {},
   "outputs": [],
   "source": []
  }
 ],
 "metadata": {
  "kernelspec": {
   "display_name": "Python 3 (ipykernel)",
   "language": "python",
   "name": "python3"
  },
  "language_info": {
   "codemirror_mode": {
    "name": "ipython",
    "version": 3
   },
   "file_extension": ".py",
   "mimetype": "text/x-python",
   "name": "python",
   "nbconvert_exporter": "python",
   "pygments_lexer": "ipython3",
   "version": "3.8.2"
  }
 },
 "nbformat": 4,
 "nbformat_minor": 5
}
